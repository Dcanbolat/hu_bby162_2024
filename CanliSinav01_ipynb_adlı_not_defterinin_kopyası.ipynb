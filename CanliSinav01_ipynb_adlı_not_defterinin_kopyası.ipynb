{
  "nbformat": 4,
  "nbformat_minor": 0,
  "metadata": {
    "colab": {
      "provenance": [],
      "include_colab_link": true
    },
    "kernelspec": {
      "name": "python3",
      "display_name": "Python 3"
    },
    "language_info": {
      "name": "python"
    }
  },
  "cells": [
    {
      "cell_type": "markdown",
      "metadata": {
        "id": "view-in-github",
        "colab_type": "text"
      },
      "source": [
        "<a href=\"https://colab.research.google.com/github/Dcanbolat/hu_bby162_2024/blob/main/CanliSinav01_ipynb_adl%C4%B1_not_defterinin_kopyas%C4%B1.ipynb\" target=\"_parent\"><img src=\"https://colab.research.google.com/assets/colab-badge.svg\" alt=\"Open In Colab\"/></a>"
      ]
    },
    {
      "cell_type": "markdown",
      "source": [
        "**Canlı Sınav 01'e hoşgeldiniz!**"
      ],
      "metadata": {
        "id": "ItmuxWgBbkC1"
      }
    },
    {
      "cell_type": "markdown",
      "source": [
        "Canlı sınav, bilgisayar laboratuvarında bilgisayar başında yapılan ve teslim edilen projeyi ifade etmektedir. Canlı sınavda yazmış olduğunuz kodlar sizin sorumluluğunuzdadır ve gerekirse hangi kodu neden yazdığınızı açık bir şekilde anlatabilmeniz gerekmektedir. Canlı sınav sırasında İnternet üzerindeki kaynaklar kullanılabilir ancak başka bir kişiden destek alınamaz.\n",
        "\n",
        "Canlı sınavın teslim şekli önceki proje çalışmasında olduğu gibidir. \"Canlı Sınav 01\" adlı Colab not defterinin bir kopyasını çıkarmalı, size ait olan bu kopya üzerinde soruları cevaplamalı, GitHub'daki ders deponuza size ait kopyayı yüklemeli ve not defterinin adresini metin alanına yazarak göndermelisiniz.\n",
        "\n",
        "Canlı sınavın doğru şekilde tamamlanması da sınavın önemli bir parçasıdır. Sınav için gönderdiğiniz adresi kontrol ediniz ve doğru dosyayı depoya yerleştirdiği bizden emin olunuz. Teslim sürecinde yapılan hatalar sınavdan 0 puan almanıza yol açabilir!\n",
        "\n",
        "Önemli Not: Soruları cecaplarken sadece şu ana kadar öğrendiğiniz kod yapılarını kullanmanız gerekmektedir!!!"
      ],
      "metadata": {
        "id": "KGjdjR5RbTgH"
      }
    },
    {
      "cell_type": "markdown",
      "source": [
        "**----- Sorular -----**"
      ],
      "metadata": {
        "id": "zBvdh4s8cOqM"
      }
    },
    {
      "cell_type": "markdown",
      "source": [
        "**Soru 1:** Bir giriş sisteminde kullanıcı adı olarak eposta ya da telefon numarası kullanılabilmektedir. Şifre ise tektir. Klavyeden doğru kullanıcı adı ve şifre girildiğinde ekrana \" Sisteme giriş yaptınız\" , yanlış kullanıcı adı girildiğinde \"kullanıcı adı hatalı\" , yanlış şifre girildiğinde \"şifre hatalı\" bilgisi yazdırılmalıdır. Kullanıcı adı hatalı ise şifre sorma adımına geçilmemelidir."
      ],
      "metadata": {
        "id": "ma0FVqgQiLBe"
      }
    },
    {
      "cell_type": "code",
      "source": [
        "#Soru 1 bu bölümde kodlanmalıdır\n",
        "eposta = \"a@a.net\"\n",
        "tel = \"532\"\n",
        "sifre = \"123\"\n",
        "girKulAdi = input(\"Kullanıcı Adı (eposta veya telefon numarası) giriniz: \")\n",
        "girSifre = input(\"Şifre giriniz: \")\n",
        "if girKulAdi == eposta or girKulAdi == tel:\n",
        "  if girSifre == sifre:\n",
        "    print(\"Sisteme giriş yaptınız.\")\n",
        "  else:\n",
        "      print(\"Şifre hatalı.\")\n",
        "else:\n",
        "  print(\"Kullanıcı adı hatalı.\")\n",
        "\n",
        "\n"
      ],
      "metadata": {
        "id": "Fj7wkLMcjp_7"
      },
      "execution_count": null,
      "outputs": []
    },
    {
      "cell_type": "markdown",
      "source": [
        "**Soru 2:** Klavyeden girilen bir insan ismindeki harf sayısına göre ekrana bir cümle yazdırınız. Örneğin 4 harfli bir isim girildiğinde ekrana \"Dört dörtlük bir isim\", 6 harfli bir isim girildiğinde ekrana \"Altıncı hissin kuvvetli\" yazılabilmelidir. Klavyeden üçten az ya da yediden çok harfe sahip bir isim girildiğinde ise ekrana \"isminiz sisteme uygun değildir\" mesajı yazdırılmalıdır."
      ],
      "metadata": {
        "id": "uZDiXJARgK4o"
      }
    },
    {
      "cell_type": "code",
      "source": [
        "#Soru 2 bu bölümde kodlanmalıdır\n",
        "isim = input(\"İsminizi giriniz: \") #istenilen isimin girilmesini input() fonksiyonu ile sağladım.\n",
        "harfSayisi = len(isim) #metin katarının uzunluğu için len() fonksiyonunu kullandım.\n",
        "if harfSayisi == 3:\n",
        "  print(\"Üç uğurlu sayınız\")\n",
        "elif harSayisi == 4:\n",
        "  print(\"Dört dörtlük bir isim\")\n",
        "elif harfSayisi == 5:\n",
        "  print(\"Beş harfli harika bir isim\")\n",
        "elif harfSayisi == 6:\n",
        "  print(\"Altıncı hissin kuvvetli\")\n",
        "elif harfSayisi == 7:\n",
        "  print(\"7. hissin hep seninle\")\n",
        "else:                                        #belirtilen koşullardan hiçbiri sağlanmadında çalışır.\n",
        "  print(\"isminiz sisteme uygun değildir\")\n",
        "\n"
      ],
      "metadata": {
        "id": "no7Zd1ZCh5U3"
      },
      "execution_count": null,
      "outputs": []
    },
    {
      "cell_type": "markdown",
      "source": [
        "**Soru 3:** 5 öğenin yer aldığı bir kelime tahmin oyunu oluşturun. Kelimeler bir liste içinde yer almalıdır. Klavyeden girilen kelime liste içinde yer alan kelimelerden biri ise ekrana \"bravo oyunu kazandınız\", aksi halde ise ekrana \"üzgünüm oyunu kaybettiniz\" mesajı gelmelidir."
      ],
      "metadata": {
        "id": "HnIqbjcCeNEV"
      }
    },
    {
      "cell_type": "code",
      "source": [
        "#Soru 3 bu bölümde kodlanmalıdır\n",
        "sporDallari = [\"basketbol\", \"futbol\", \"voleybol\", \"yüzme\", \"tenis\"]  #kelime listesi oluşturdum.\n",
        "tahmin = input(\"Spor dalı giriniz: \")       #istenilen spor dalı girilir\n",
        "if tahmin in sporDallari:               #tahminin listedeki spor dallarından biri olup olmadığı kontrolü\n",
        "  print(\"bravo oyunu kazandınız\")\n",
        "else:\n",
        "  print(\"üzgünüm oyunu kaybettiniz\")\n",
        "\n"
      ],
      "metadata": {
        "id": "SjzG5g3ffTyv"
      },
      "execution_count": null,
      "outputs": []
    },
    {
      "cell_type": "markdown",
      "source": [
        "**Soru 4:** 5 öğenin yer aldığı bir sözlük oluşturun. Bu sözlükte 5 kelime ve bu 5 kelimenin anlamları yer almalıdır. Klavyeden girilen anahtar (key) eğer sözlükte varsa kelimenin anlamı ekrana yazdırılmalıdır. Eğer anahtar sözlükte yoksa sözlükte aranan kelimenin olmadığı bilgisi ekrana yazdırılmalıdır."
      ],
      "metadata": {
        "id": "p49cZFjJcXoS"
      }
    },
    {
      "cell_type": "code",
      "execution_count": null,
      "metadata": {
        "id": "3whYCDz3a8QZ"
      },
      "outputs": [],
      "source": [
        "#Soru 4 bu bölümde kodlanmalıdır\n",
        "sozluk = {                        #sözlük oluşturdum\n",
        "    \"okul\": \"ders\",\n",
        "    \"tablet\": \"oyun\",\n",
        "    \"çanta\": \"siyah\",\n",
        "    \"telefon\": \"mesaj\"\n",
        "}\n",
        "\n",
        "anahtar = input(\"Kelime giriniz: \")    #istenilen kelime girişi\n",
        "\n",
        "if anahtar in sozluk:                  #anahtarın sözlükte olup olmadığı kontrolü\n",
        "  print(sozluk[anahtar])\n",
        "else:\n",
        "  print(\"Sözlükte aradığınız kelime bulunamadı.\")\n",
        "\n"
      ]
    }
  ]
}