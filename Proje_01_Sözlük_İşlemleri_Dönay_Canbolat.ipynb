{
  "nbformat": 4,
  "nbformat_minor": 0,
  "metadata": {
    "colab": {
      "provenance": [],
      "authorship_tag": "ABX9TyN1I5zlg1WALPa2geliWhCd",
      "include_colab_link": true
    },
    "kernelspec": {
      "name": "python3",
      "display_name": "Python 3"
    },
    "language_info": {
      "name": "python"
    }
  },
  "cells": [
    {
      "cell_type": "markdown",
      "metadata": {
        "id": "view-in-github",
        "colab_type": "text"
      },
      "source": [
        "<a href=\"https://colab.research.google.com/github/Dcanbolat/hu_bby162_2024/blob/main/Proje_01_S%C3%B6zl%C3%BCk_%C4%B0%C5%9Flemleri_D%C3%B6nay_Canbolat.ipynb\" target=\"_parent\"><img src=\"https://colab.research.google.com/assets/colab-badge.svg\" alt=\"Open In Colab\"/></a>"
      ]
    },
    {
      "cell_type": "code",
      "execution_count": 8,
      "metadata": {
        "colab": {
          "base_uri": "https://localhost:8080/"
        },
        "id": "xIypYYrtHuhx",
        "outputId": "64c11be6-90a1-4020-e594-69ffc55457df"
      },
      "outputs": [
        {
          "output_type": "stream",
          "name": "stdout",
          "text": [
            "{'algoritama': 'işlem sırası', 'veri': 'bilgi kaynağı', 'ağ': 'bağlantı sistemi', 'fonksiyon': 'işlevsel blok', 'arayüz': 'kullanıcı bağlantısı', 'derleme': 'kod çevirme', 'güncelleme': 'yazılım yenileme', 'veritabanı': 'bilgi saklama', 'kod': 'yazılım talimatı', 'yazılım': 'bilgisayar programı'}\n",
            "{'algoritama': 'işlem sırası', 'veri': 'bilgi kaynağı', 'ağ': 'bağlantı sistemi', 'fonksiyon': 'işlevsel blok', 'arayüz': 'kullanıcı bağlantısı', 'derleme': 'kod çevirme', 'güncelleme': 'yazılım yenileme', 'veritabanı': 'bilgi saklama', 'kod': 'yazılım talimatı', 'yazılım': 'bilgisayar programı', 'paket': 'yazılım parçası'}\n",
            "Yeni anahtar değeri girin: paket\n",
            "Açıklamayı girin: yazılım parçası\n",
            "Sözlüğe yeni anahtar eklendi.\n",
            "Silmek istediğiniz anahtar kelimeyi girin: ağ\n",
            "Anahtar silindi.\n",
            "Aranacak anahtar kelimeyi girin: derleme\n",
            "derleme: kod çevirme\n"
          ]
        }
      ],
      "source": [
        "#kodDilimleri adında sözlüğümü oluşturdum\n",
        "kodDilimleri = {\"algoritama\": \"işlem sırası\", \"veri\": \"bilgi kaynağı\", \"ağ\": \"bağlantı sistemi\", \"fonksiyon\": \"işlevsel blok\", \"arayüz\": \"kullanıcı bağlantısı\", \"derleme\": \"kod çevirme\", \"güncelleme\": \"yazılım yenileme\", \"veritabanı\": \"bilgi saklama\", \"kod\": \"yazılım talimatı\", \"yazılım\": \"bilgisayar programı\"}\n",
        "print(kodDilimleri)\n",
        "\n",
        "# sözlüğe yeni bir anahtar eklenmesi\n",
        "kodDilimleri[\"paket\"] = \"yazılım parçası\"\n",
        "print(kodDilimleri)\n",
        "\n",
        "# sözlüğe anahtar ekleme iki aşamalı hali\n",
        "yeniAnahtar = input(\"Yeni anahtar değeri girin: \")\n",
        "yeniDeger = input(\"Açıklamayı girin: \")\n",
        "kodDilimleri[yeniAnahtar] = yeniDeger\n",
        "print(\"Sözlüğe yeni anahtar eklendi.\")\n",
        "\n",
        "# sözlükten anahtar silinmesi\n",
        "silAnahtar = input(\"Silmek istediğiniz anahtar kelimeyi girin: \")\n",
        "if silAnahtar in kodDilimleri:\n",
        "  del kodDilimleri[silAnahtar]\n",
        "  print(\"Anahtar silindi.\")\n",
        "\n",
        "\n",
        "# sözlükteki bir değerin güncellenmesi\n",
        "guncellenecekAnahtar = (\"Değerini güncellemek istediğiniz anahtar kelimeyi girin: \")\n",
        "if guncellenecekAnahtar in kodDilimleri:\n",
        "  yeni_deger = input(\"Yeni açıklamayı girin: \")\n",
        "  kodDilimleri[guncellenecekAnahtar] = yeni_deger\n",
        "  print(\"Değer güncellendi.\")\n",
        "\n",
        "\n",
        "# sözlükte arama yapılması\n",
        "anahtar = input(\"Aranacak anahtar kelimeyi girin: \")\n",
        "if anahtar in kodDilimleri:\n",
        "  print(f\"{anahtar}: {kodDilimleri[anahtar]}\")\n"
      ]
    }
  ]
}