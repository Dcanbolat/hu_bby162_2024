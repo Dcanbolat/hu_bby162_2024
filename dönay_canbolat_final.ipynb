{
  "nbformat": 4,
  "nbformat_minor": 0,
  "metadata": {
    "colab": {
      "provenance": [],
      "include_colab_link": true
    },
    "kernelspec": {
      "name": "python3",
      "display_name": "Python 3"
    },
    "language_info": {
      "name": "python"
    }
  },
  "cells": [
    {
      "cell_type": "markdown",
      "metadata": {
        "id": "view-in-github",
        "colab_type": "text"
      },
      "source": [
        "<a href=\"https://colab.research.google.com/github/Dcanbolat/hu_bby162_2024/blob/main/d%C3%B6nay_canbolat_final.ipynb\" target=\"_parent\"><img src=\"https://colab.research.google.com/assets/colab-badge.svg\" alt=\"Open In Colab\"/></a>"
      ]
    },
    {
      "cell_type": "markdown",
      "source": [
        "**Final Sınavına hoşgeldiniz!**"
      ],
      "metadata": {
        "id": "ItmuxWgBbkC1"
      }
    },
    {
      "cell_type": "markdown",
      "source": [
        "Canlı final sınavı, bilgisayar laboratuvarında bilgisayar başında yapılan ve teslim edilen sınavı ifade etmektedir. Canlı final sınavında yazmış olduğunuz kodlar sizin sorumluluğunuzdadır ve gerekirse hangi kodu neden yazdığınızı açık bir şekilde anlatabilmeniz gerekmektedir. Canlı final sınavı sırasında İnternet üzerindeki kaynaklar kullanılabilir ancak başka bir kişiden destek alınamaz.\n",
        "\n",
        "Canlı final sınavının teslim şekli önceki sınav ve projelerin teslim şekli ile aynıdır. \"Final Sınavı\" adlı Colab not defterinin bir kopyasını çıkarmalı, size ait olan bu kopya üzerinde soruları cevaplamalı, GitHub'daki ders deponuza size ait kopyayı yüklemeli ve not defterinin adresini metin alanına yazarak göndermelisiniz.\n",
        "\n",
        "Canlı final sınavının doğru şekilde tamamlanması da sınavın önemli bir parçasıdır. Sınav için gönderdiğiniz adresi kontrol ediniz ve doğru dosyayı depoya yerleştirdiği bizden emin olunuz. Teslim sürecinde yapılan hatalar sınavdan 0 puan almanıza yol açabilir!\n",
        "\n",
        "**Sınav süresi 60 dakikadır!**\n",
        "\n",
        "Önemli Not: Soruları cecaplarken sadece şu ana kadar öğrendiğiniz kod yapılarını kullanmanız gerekmektedir!!!"
      ],
      "metadata": {
        "id": "KGjdjR5RbTgH"
      }
    },
    {
      "cell_type": "markdown",
      "source": [
        "**----- Sorular -----**"
      ],
      "metadata": {
        "id": "zBvdh4s8cOqM"
      }
    },
    {
      "cell_type": "markdown",
      "source": [
        "**Soru 1:** Kod bölümünde yer alan listeyi ekrana aşağıda gösterildiği şekilde \"for\" döngüsü kullanarak yazdırın. Her kelimenin başındaki numara otomatik olarak verilmelidir. (5 Puan)\n",
        "\n",
        "1.   Açık Erişim\n",
        "2.   Açık Bilim\n",
        "3.   Açık Veri\n",
        "4.   Açık Eğitim\n",
        "5.   Açık Kültür"
      ],
      "metadata": {
        "id": "ma0FVqgQiLBe"
      }
    },
    {
      "cell_type": "code",
      "source": [
        "#Soru 1 bu bölümde kodlanmalıdır\n",
        "acikListe = [\"Açık Erişim\", \"Açık Bilim\", \"Açık Veri\", \"Açık Eğitim\", \"Açık Kültür\"]\n",
        "\n",
        "# Her elemanı numaralandırılmış şekilde yazdır\n",
        "for i in range(len(acikListe)):\n",
        "    print(str(i + 1) + \". \" + acikListe[i])"
      ],
      "metadata": {
        "id": "Fj7wkLMcjp_7",
        "colab": {
          "base_uri": "https://localhost:8080/"
        },
        "outputId": "2cb83c6b-2ae1-4340-ebb7-223af35b9b3f"
      },
      "execution_count": null,
      "outputs": [
        {
          "output_type": "stream",
          "name": "stdout",
          "text": [
            "1. Açık Erişim\n",
            "2. Açık Bilim\n",
            "3. Açık Veri\n",
            "4. Açık Eğitim\n",
            "5. Açık Kültür\n"
          ]
        }
      ]
    },
    {
      "cell_type": "markdown",
      "source": [
        "**Soru 2:** Kod bölümünde yer alan boş sözlüğe klavyeden yeni veri ekleyecek kodu yazınız. Yeni veri hem anahtarı (key) hem de anahtara karşılık gelecek değerli (value) içermelidir. Veri girişi yapıldıktan sonra sözlüğün güncel hali de ekrana yazıdırılmalıdır. (5 Puan)"
      ],
      "metadata": {
        "id": "uZDiXJARgK4o"
      }
    },
    {
      "cell_type": "code",
      "source": [
        "#Soru 2 bu bölümde kodlanmalıdır\n",
        "sozluk = {}\n",
        "\n",
        "# Klavyeden veri girişi\n",
        "anahtar = input(\"Eklemek istediğiniz anahtarı girin: \")\n",
        "deger = input(\"Anahtara karşılık gelecek değeri girin: \")\n",
        "\n",
        "# Anahtar-değer çiftini sözlüğe ekle\n",
        "sozluk[anahtar] = deger\n",
        "\n",
        "# Güncel sözlüğü ekrana yazdır\n",
        "print(\"Güncel sözlük:\", sozluk)\n",
        "\n"
      ],
      "metadata": {
        "id": "no7Zd1ZCh5U3",
        "colab": {
          "base_uri": "https://localhost:8080/"
        },
        "outputId": "fbefc67e-e5a5-4fa7-d561-ac9ff4729dea"
      },
      "execution_count": null,
      "outputs": [
        {
          "output_type": "stream",
          "name": "stdout",
          "text": [
            "Eklemek istediğiniz anahtarı girin: Dönay\n",
            "Anahtara karşılık gelecek değeri girin: Canbolat\n",
            "Güncel sözlük: {'Dönay': 'Canbolat'}\n"
          ]
        }
      ]
    },
    {
      "cell_type": "markdown",
      "source": [
        "**Soru 3:** Herhangi bir metin dosyasında (ör: [veri.txt](https://drive.google.com/file/d/1WVCEET3G3ishvIR-V6lCav7jBgaZLT-o/view?usp=sharing)) satır satır yer alan verileri okuyup ekrana satır satır yazdıracak kodu yazınız. (10 Puan)"
      ],
      "metadata": {
        "id": "HnIqbjcCeNEV"
      }
    },
    {
      "cell_type": "code",
      "source": [
        "#Soru 3 bu bölümde kodlanmalıdır\n",
        "\n",
        "dosya_adı = \"metin_dosyası.txt\"\n",
        "\n",
        "try:\n",
        "    # Dosyayı aç ve her satırı ekrana yazdır\n",
        "    with open(dosya_adı, \"r\", encoding=\"utf-8\") as dosya:\n",
        "        for satır in dosya:\n",
        "            print(satır.strip())\n",
        "except FileNotFoundError:\n",
        "    print(f\"{dosya_adı} adlı dosya bulunamadı.\")"
      ],
      "metadata": {
        "id": "SjzG5g3ffTyv",
        "colab": {
          "base_uri": "https://localhost:8080/"
        },
        "outputId": "fb27334b-1bda-49f5-8438-e81548d5cbe4"
      },
      "execution_count": 4,
      "outputs": [
        {
          "output_type": "stream",
          "name": "stdout",
          "text": [
            "metin_dosyası.txt adlı dosya bulunamadı.\n"
          ]
        }
      ]
    },
    {
      "cell_type": "markdown",
      "source": [
        "**Soru 4:** Verilerin bir TXT dosyasında depolanabileceği basit bir adres defteri oluşturunuz. Adres defterindeki öğeler Ad-Soyad ve e-Posta olacaktır. Bu adres desteri uygulamasında bir menü yapısı (uygulama içinde fonksiyolar) olmalıdır. 1. seçenek adres defterindeki girişleri göstermeli, 2. seçenek adres defterine yeni veri eklemeli, 3. seçenek ise uygulamayı sonlandırmalıdır. (20 Puan)"
      ],
      "metadata": {
        "id": "p49cZFjJcXoS"
      }
    },
    {
      "cell_type": "code",
      "source": [
        "#Soru 4 bu bölümde kodlanmalıdır\n",
        "\n",
        "# Adres defteri dosyasının adı\n",
        "dosya_adi = \"adres_defteri.txt\"\n",
        "\n",
        "# Adres defterindeki girişleri göstermek için bir fonksiyon\n",
        "def girisleri_goster():\n",
        "    try:\n",
        "        # Adres defteri dosyasını aç\n",
        "        with open(dosya_adi, \"r\", encoding=\"utf-8\") as dosya:\n",
        "            # Kullanıcıya bilgi mesajı göster\n",
        "            print(\"\\nAdres Defterindeki Girişler:\")\n",
        "            print(\"-----------------------------\")\n",
        "            # Dosyanın her satırını oku ve ekrana yazdır\n",
        "            for satir in dosya:\n",
        "                print(satir.strip())  # Her satırın sonundaki boşlukları ve yeni satır karakterini kaldır\n",
        "    except FileNotFoundError:\n",
        "        # Dosya bulunamadığında kullanıcıya hata mesajı göster\n",
        "        print(\"\\nAdres defterinde hiç kayıt yok.\")\n",
        "\n",
        "# Yeni bir giriş eklemek için bir fonksiyon\n",
        "def yeni_giris_ekle():\n",
        "    # Kullanıcıdan ad-soyad ve e-posta bilgilerini al\n",
        "    ad_soyad = input(\"Ad-Soyad: \")\n",
        "    eposta = input(\"e-Posta: \")\n",
        "    # Adres defteri dosyasını aç ve yeni girişi dosyanın sonuna ekle\n",
        "    with open(dosya_adi, \"a\", encoding=\"utf-8\") as dosya:\n",
        "        dosya.write(f\"{ad_soyad} - {eposta}\\n\")\n",
        "    # Kullanıcıya yeni girişin eklenmiş olduğuna dair bilgi mesajı göster\n",
        "    print(\"Yeni giriş eklendi.\")\n",
        "\n",
        "# Uygulamayı sonlandırmak için bir fonksiyon\n",
        "def uygulamayi_sonlandir():\n",
        "    # Kullanıcıya uygulamanın sonlandırıldığına dair bilgi mesajı göster\n",
        "    print(\"Uygulama sonlandırılıyor...\")\n",
        "    # Programı sonlandır\n",
        "    exit()\n",
        "\n",
        "# Menüyü görüntülemek ve kullanıcı etkileşimi sağlamak için bir fonksiyon\n",
        "def menu():\n",
        "    while True:\n",
        "        # Menüyü görüntüle\n",
        "        print(\"\\nAdres Defteri Uygulaması\")\n",
        "        print(\"1. Girişleri Göster\")\n",
        "        print(\"2. Yeni Giriş Ekle\")\n",
        "        print(\"3. Uygulamayı Sonlandır\")\n",
        "        # Kullanıcıdan bir seçenek seçmesini iste\n",
        "        secim = input(\"Bir seçenek seçin (1/2/3): \")\n",
        "        # Kullanıcının seçimine göre işlem yap\n",
        "        if secim == \"1\":\n",
        "            girisleri_goster()  # Adres defterindeki girişleri göster\n",
        "        elif secim == \"2\":\n",
        "            yeni_giris_ekle()  # Yeni bir giriş ekle\n",
        "        elif secim == \"3\":\n",
        "            uygulamayi_sonlandir()  # Uygulamayı sonlandır\n",
        "        else:\n",
        "            # Geçersiz seçenek durumunda kullanıcıya hata mesajı göster\n",
        "            print(\"Geçersiz seçenek. Lütfen tekrar deneyin.\")\n",
        "\n",
        "# Menü fonksiyonunu çağırarak uygulamayı başlat\n",
        "menu()"
      ],
      "metadata": {
        "colab": {
          "base_uri": "https://localhost:8080/"
        },
        "id": "tgIr38EzHcC0",
        "outputId": "fabdb3d4-5548-4a68-e31c-9c880f9e2764"
      },
      "execution_count": null,
      "outputs": [
        {
          "output_type": "stream",
          "name": "stdout",
          "text": [
            "\n",
            "Adres Defteri Uygulaması\n",
            "1. Girişleri Göster\n",
            "2. Yeni Giriş Ekle\n",
            "3. Uygulamayı Sonlandır\n",
            "Bir seçenek seçin (1/2/3): 1\n",
            "\n",
            "Adres Defterindeki Girişler:\n",
            "-----------------------------\n",
            "Dönay Canbolat - dnycnblt@gmail.com\n",
            "Sadık Şahin - dkshn@gmail.com\n",
            "Dönay Canbolat - dnycnblt@gmail.com\n",
            "Sadık Şahin  - sdkshn@gmail.com\n",
            "Beyza Gülsoy - byzglsy@gmail.com\n",
            "Akif A - akfa@gmail.com\n",
            "sevdacnblt@gmail.com - Sevda Canbolat\n",
            "Aysima Gürgel - aysimagrgl@gmail.com\n",
            "\n",
            "Adres Defteri Uygulaması\n",
            "1. Girişleri Göster\n",
            "2. Yeni Giriş Ekle\n",
            "3. Uygulamayı Sonlandır\n",
            "Bir seçenek seçin (1/2/3): 2\n",
            "Ad-Soyad: Şerife ak\n",
            "e-Posta: srfak@gmail.com\n",
            "Yeni giriş eklendi.\n",
            "\n",
            "Adres Defteri Uygulaması\n",
            "1. Girişleri Göster\n",
            "2. Yeni Giriş Ekle\n",
            "3. Uygulamayı Sonlandır\n",
            "Bir seçenek seçin (1/2/3): 3\n",
            "Uygulama sonlandırılıyor...\n",
            "\n",
            "Adres Defteri Uygulaması\n",
            "1. Girişleri Göster\n",
            "2. Yeni Giriş Ekle\n",
            "3. Uygulamayı Sonlandır\n",
            "Bir seçenek seçin (1/2/3): 1\n",
            "\n",
            "Adres Defterindeki Girişler:\n",
            "-----------------------------\n",
            "Dönay Canbolat - dnycnblt@gmail.com\n",
            "Sadık Şahin - dkshn@gmail.com\n",
            "Dönay Canbolat - dnycnblt@gmail.com\n",
            "Sadık Şahin  - sdkshn@gmail.com\n",
            "Beyza Gülsoy - byzglsy@gmail.com\n",
            "Akif A - akfa@gmail.com\n",
            "sevdacnblt@gmail.com - Sevda Canbolat\n",
            "Aysima Gürgel - aysimagrgl@gmail.com\n",
            "Şerife ak - srfak@gmail.com\n",
            "\n",
            "Adres Defteri Uygulaması\n",
            "1. Girişleri Göster\n",
            "2. Yeni Giriş Ekle\n",
            "3. Uygulamayı Sonlandır\n"
          ]
        }
      ]
    }
  ]
}