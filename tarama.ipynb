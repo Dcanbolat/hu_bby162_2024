{
  "nbformat": 4,
  "nbformat_minor": 0,
  "metadata": {
    "colab": {
      "provenance": [],
      "authorship_tag": "ABX9TyOhDIWr6y+ghTWnAZMVkz7V",
      "include_colab_link": true
    },
    "kernelspec": {
      "name": "python3",
      "display_name": "Python 3"
    },
    "language_info": {
      "name": "python"
    }
  },
  "cells": [
    {
      "cell_type": "markdown",
      "metadata": {
        "id": "view-in-github",
        "colab_type": "text"
      },
      "source": [
        "<a href=\"https://colab.research.google.com/github/Dcanbolat/hu_bby162_2024/blob/main/tarama.ipynb\" target=\"_parent\"><img src=\"https://colab.research.google.com/assets/colab-badge.svg\" alt=\"Open In Colab\"/></a>"
      ]
    },
    {
      "cell_type": "code",
      "execution_count": 2,
      "metadata": {
        "id": "Cuv5AsxNLULQ"
      },
      "outputs": [],
      "source": [
        "def spider(start_url, depth):\n",
        "    visited = set()\n",
        "    results = []\n",
        "\n",
        "    def crawl_recursive(url, level):\n",
        "        if level > depth or url in visited:\n",
        "            return\n",
        "        visited.add(url)\n",
        "        title, links = crawl(url)\n",
        "        results.append((level, url, title))\n",
        "\n",
        "        for link in links:\n",
        "            # Linkin mutlak URL olup olmadığını kontrol edin\n",
        "            if not link.startswith('http'):\n",
        "                link = requests.compat.urljoin(url, link)\n",
        "            crawl_recursive(link, level + 1)\n",
        "\n",
        "    crawl_recursive(start_url, 1)\n",
        "    return results\n"
      ]
    }
  ]
}