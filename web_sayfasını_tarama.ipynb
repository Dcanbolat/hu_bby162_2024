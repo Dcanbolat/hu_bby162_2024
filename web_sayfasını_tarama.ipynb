{
  "nbformat": 4,
  "nbformat_minor": 0,
  "metadata": {
    "colab": {
      "provenance": [],
      "authorship_tag": "ABX9TyOfn8Eqxf/mwkvy9OL7M1cT",
      "include_colab_link": true
    },
    "kernelspec": {
      "name": "python3",
      "display_name": "Python 3"
    },
    "language_info": {
      "name": "python"
    }
  },
  "cells": [
    {
      "cell_type": "markdown",
      "metadata": {
        "id": "view-in-github",
        "colab_type": "text"
      },
      "source": [
        "<a href=\"https://colab.research.google.com/github/Dcanbolat/hu_bby162_2024/blob/main/web_sayfas%C4%B1n%C4%B1_tarama.ipynb\" target=\"_parent\"><img src=\"https://colab.research.google.com/assets/colab-badge.svg\" alt=\"Open In Colab\"/></a>"
      ]
    },
    {
      "cell_type": "code",
      "execution_count": null,
      "metadata": {
        "colab": {
          "base_uri": "https://localhost:8080/"
        },
        "id": "wwwcAiQ6LvSh",
        "outputId": "ef8b3ed2-586e-4e13-ddaa-d2338c84d9ac"
      },
      "outputs": [
        {
          "output_type": "stream",
          "name": "stdout",
          "text": [
            "Requirement already satisfied: requests in /usr/local/lib/python3.10/dist-packages (2.32.3)\n",
            "Requirement already satisfied: beautifulsoup4 in /usr/local/lib/python3.10/dist-packages (4.12.3)\n",
            "Requirement already satisfied: charset-normalizer<4,>=2 in /usr/local/lib/python3.10/dist-packages (from requests) (3.4.0)\n",
            "Requirement already satisfied: idna<4,>=2.5 in /usr/local/lib/python3.10/dist-packages (from requests) (3.10)\n",
            "Requirement already satisfied: urllib3<3,>=1.21.1 in /usr/local/lib/python3.10/dist-packages (from requests) (2.2.3)\n",
            "Requirement already satisfied: certifi>=2017.4.17 in /usr/local/lib/python3.10/dist-packages (from requests) (2024.8.30)\n",
            "Requirement already satisfied: soupsieve>1.2 in /usr/local/lib/python3.10/dist-packages (from beautifulsoup4) (2.6)\n"
          ]
        }
      ],
      "source": [
        "# Gerekli kütüphaneleri yükleyin\n",
        "!pip install requests beautifulsoup4\n",
        "\n",
        "import requests\n",
        "from bs4 import BeautifulSoup\n",
        "\n",
        "# Kullanıcıdan başlangıç URL'sini ve derinliği al\n",
        "start_url = input(\"Başlangıç URL'sini girin: \")\n",
        "depth = int(input(\"Tarama derinliğini girin (1-3): \"))\n",
        "\n",
        "# Web sayfasını tarayan fonksiyon\n",
        "def crawl(url):\n",
        "    try:\n",
        "        response = requests.get(url)\n",
        "        soup = BeautifulSoup(response.text, 'html.parser')\n",
        "        title = soup.title.string if soup.title else 'Başlık Bulunamadı'\n",
        "        links = [a['href'] for a in soup.find_all('a', href=True)]\n",
        "        return title, links\n",
        "    except Exception as e:\n",
        "        print(f\"Error crawling {url}: {e}\")\n",
        "        return None, []\n",
        "\n",
        "# Tarama işlemini gerçekleştiren fonksiyon\n",
        "def spider(start_url, depth):\n",
        "    visited = set()\n",
        "    results = []\n",
        "\n",
        "    def crawl_recursive(url, level):\n",
        "        if level > depth or url in visited:\n",
        "            return\n",
        "        visited.add(url)\n",
        "        title, links = crawl(url)\n",
        "        results.append((level, url, title))\n",
        "\n",
        "        for link in links:\n",
        "            # Linkin mutlak URL olup olmadığını kontrol edin\n",
        "            if not link.startswith('http'):\n",
        "                link = requests.compat.urljoin(url, link)\n",
        "            crawl_recursive(link, level + 1)\n",
        "\n",
        "    crawl_recursive(start_url, 1)\n",
        "    return results\n",
        "\n",
        "# Sonuçları kaydeden fonksiyon\n",
        "def save_results(results):\n",
        "    with open('results.txt', 'w') as file:\n",
        "        for level, url, title in results:\n",
        "            file.write(f\"Seviye {level}: {url} - Başlık: {title}\\n\")\n",
        "\n",
        "# Tarama işlemini başlat ve sonuçları kaydet\n",
        "results = spider(start_url, depth)\n",
        "save_results(results)\n",
        "print(\"Tarama tamamlandı. Sonuçlar 'results.txt' dosyasına kaydedildi.\")\n"
      ]
    }
  ]
}