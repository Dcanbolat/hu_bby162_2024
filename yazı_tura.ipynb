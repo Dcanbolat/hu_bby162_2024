{
  "nbformat": 4,
  "nbformat_minor": 0,
  "metadata": {
    "colab": {
      "provenance": [],
      "authorship_tag": "ABX9TyNf4WNuBpoQbhPrRl+pgDSz",
      "include_colab_link": true
    },
    "kernelspec": {
      "name": "python3",
      "display_name": "Python 3"
    },
    "language_info": {
      "name": "python"
    }
  },
  "cells": [
    {
      "cell_type": "markdown",
      "metadata": {
        "id": "view-in-github",
        "colab_type": "text"
      },
      "source": [
        "<a href=\"https://colab.research.google.com/github/Dcanbolat/hu_bby162_2024/blob/main/yaz%C4%B1_tura.ipynb\" target=\"_parent\"><img src=\"https://colab.research.google.com/assets/colab-badge.svg\" alt=\"Open In Colab\"/></a>"
      ]
    },
    {
      "cell_type": "code",
      "execution_count": null,
      "metadata": {
        "id": "qAc-wnLH9k4H"
      },
      "outputs": [],
      "source": []
    },
    {
      "source": [
        "import random\n",
        "\n",
        "# Function to simulate a coin toss and return a string\n",
        "def coin_toss():\n",
        "  # Generate a random number between 0 and 1\n",
        "  random_number = random.random()\n",
        "\n",
        "  # Return \"yazı\" if the number is less than 0.5, otherwise return \"tura\"\n",
        "  if random_number < 0.5:\n",
        "    return \"yazı\"\n",
        "  else:\n",
        "    return \"tura\"\n",
        "\n",
        "# Simulate a coin toss and print the result\n",
        "result = coin_toss()\n",
        "print(result)"
      ],
      "cell_type": "code",
      "metadata": {
        "id": "PEth_upk93Do"
      },
      "execution_count": null,
      "outputs": []
    },
    {
      "source": [
        "import random\n",
        "\n",
        "def coin_toss():\n",
        "  \"\"\"\n",
        "  Simulates a coin toss and returns either \"yazı\" or \"tura\".\n",
        "  \"\"\"\n",
        "  # Generate a random boolean value (True or False)\n",
        "  is_heads = random.random() < 0.5\n",
        "\n",
        "  # Return \"yazı\" if the value is True, otherwise return \"tura\"\n",
        "  if is_heads:\n",
        "    return \"yazı\"\n",
        "  else:\n",
        "    return \"tura\"\n",
        "\n",
        "# Simulate a coin toss and print the result\n",
        "result = coin_toss()\n",
        "print(result)"
      ],
      "cell_type": "code",
      "metadata": {
        "id": "_-u1ayyn9_XP"
      },
      "execution_count": null,
      "outputs": []
    }
  ]
}