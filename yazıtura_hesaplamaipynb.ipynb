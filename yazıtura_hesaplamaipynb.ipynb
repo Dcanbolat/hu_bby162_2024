{
  "nbformat": 4,
  "nbformat_minor": 0,
  "metadata": {
    "colab": {
      "provenance": [],
      "authorship_tag": "ABX9TyN68SEPy+YqiXRHnv2r/jtF",
      "include_colab_link": true
    },
    "kernelspec": {
      "name": "python3",
      "display_name": "Python 3"
    },
    "language_info": {
      "name": "python"
    }
  },
  "cells": [
    {
      "cell_type": "markdown",
      "metadata": {
        "id": "view-in-github",
        "colab_type": "text"
      },
      "source": [
        "<a href=\"https://colab.research.google.com/github/Dcanbolat/hu_bby162_2024/blob/main/yaz%C4%B1tura_hesaplamaipynb.ipynb\" target=\"_parent\"><img src=\"https://colab.research.google.com/assets/colab-badge.svg\" alt=\"Open In Colab\"/></a>"
      ]
    },
    {
      "cell_type": "code",
      "execution_count": null,
      "metadata": {
        "id": "QKBExOK3-0OD"
      },
      "outputs": [],
      "source": []
    },
    {
      "source": [],
      "cell_type": "code",
      "metadata": {
        "colab": {
          "base_uri": "https://localhost:8080/",
          "height": 38
        },
        "id": "6GEgokXD-5E-",
        "outputId": "d6175276-d0c3-4158-d623-67b35e730cb7"
      },
      "execution_count": 1,
      "outputs": [
        {
          "output_type": "display_data",
          "data": {
            "text/plain": [
              "<IPython.core.display.HTML object>"
            ],
            "text/html": [
              "\n",
              "<button onclick=\"yazı_tura()\">Yazı Tura At</button>\n"
            ]
          },
          "metadata": {}
        }
      ]
    },
    {
      "source": [
        "import random\n",
        "\n",
        "def yazı_tura():\n",
        "  \"\"\"Simulates a coin toss and prints the result.\"\"\"\n",
        "  result = random.choice([\"yazı\", \"tura\"])\n",
        "  print(f\"Yazı: {result}\")\n",
        "\n",
        "# Create a button to trigger the coin toss.\n",
        "from IPython.display import HTML\n",
        "\n",
        "button_html = \"\"\"\n",
        "<button onclick=\"yazı_tura()\">Yazı Tura At</button>\n",
        "\"\"\"\n",
        "\n",
        "display(HTML(button_html))"
      ],
      "cell_type": "code",
      "metadata": {
        "colab": {
          "base_uri": "https://localhost:8080/",
          "height": 38
        },
        "id": "qRxt5xfv_B8G",
        "outputId": "dfa31165-91de-4f98-9a9c-d8e322ae20ef"
      },
      "execution_count": 2,
      "outputs": [
        {
          "output_type": "display_data",
          "data": {
            "text/plain": [
              "<IPython.core.display.HTML object>"
            ],
            "text/html": [
              "\n",
              "<button onclick=\"yazı_tura()\">Yazı Tura At</button>\n"
            ]
          },
          "metadata": {}
        }
      ]
    }
  ]
}